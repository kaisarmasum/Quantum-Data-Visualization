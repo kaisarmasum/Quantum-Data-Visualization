{
  "cells": [
    {
      "cell_type": "markdown",
      "metadata": {
        "id": "view-in-github",
        "colab_type": "text"
      },
      "source": [
        "<a href=\"https://colab.research.google.com/github/kaisarmasum/Quantum-Data-Visualization/blob/main/Q2Vec.ipynb\" target=\"_parent\"><img src=\"https://colab.research.google.com/assets/colab-badge.svg\" alt=\"Open In Colab\"/></a>"
      ]
    },
    {
      "cell_type": "code",
      "execution_count": null,
      "id": "d467d4d8-3259-4fcb-ac0d-021d605f5447",
      "metadata": {
        "tags": [],
        "id": "d467d4d8-3259-4fcb-ac0d-021d605f5447"
      },
      "outputs": [],
      "source": [
        "sen = \"Distant waves crashed. Silent moon rose. Hidden caves echoed. Rustic door creaked. Secret paths twisted. Shimmering lake sparkled. Lonely owl hooted. Mysterious mist lingered. Ancient ruins stood. Enchanted forest whispered. Fading sunlight waned. Forgotten tales echoed. Tranquil river flowed. Whispering winds danced. Eerie shadows crept. Timeless clock ticked. Enigmatic shadows played. Lush meadows stretched. Haunting melodies played. Endless possibilities unfolded. Gentle raindrops pattered. Tranquil rivers meandered. Moonlit night embraced. Forgotten dreams resurfaced. Elusive shadows danced. Gleaming stars twinkled. Hidden treasures awaited. Whispers of magic echoed. Timeless beauty enchanted. Reflective waters mirrored. Celestial bodies aligned. Mystic mountains soared. Mystic runes glowed. Radiant sunsets painted. Serene waters shimmered. Enigmatic doors opened. Mystical realms beckoned. Whispers of destiny called. Celestial beings watched. Harmonious echoes resonated. Wandering spirits roamed. Ethereal light bathed. Enchanted melodies played. Celestial wonders unfolded. Whispers of time echoed. Eternal flames flickered. Veiled secrets whispered. Shadows of the past. Celestial dance began. Harmonious symphony played. Silent whispers spoke. Timeless echoes resonated. Mysterious laughter echoed. Whispers of the wind. Serenity embraced all. Enigmatic tales unfolded. Whispers of the ancients. Celestial beings danced. Reflective waters flowed. Eternal flames burned. Harmonious melodies played. Celestial lights shimmered. Enchanted gazes met. Tranquil gardens bloomed. Moonlit shadows danced. Mysterious runes glowed. Reflective moonlight bathed. Tranquil meadows stretched. Whispers of the stars. Echoes of eternity lingered. Enigmatic doorways beckoned. Celestial wonders revealed. Mysterious mists veiled. Ethereal beauty surrounded. Tranquil spirits soared. Silent moonbeams danced. Whispering winds carried. Timeless echoes whispered. Mystical pathways opened. Celestial realms awaited. Harmonious waves echoed. Ethereal light embraced. Mysterious symbols glowed. Silent footsteps echoed. Timeless whispers spoke. Celestial symphony played. Enigmatic realms called. Tranquil reflections mirrored. Whispers of the night.\""
      ]
    },
    {
      "cell_type": "code",
      "execution_count": null,
      "id": "c32ee862-5d9d-425d-86c8-8b478a10bcae",
      "metadata": {
        "tags": [],
        "id": "c32ee862-5d9d-425d-86c8-8b478a10bcae"
      },
      "outputs": [],
      "source": [
        "import re\n",
        "\n",
        "def tokenize(text):\n",
        "    pattern = re.compile(r'[A-Za-z]+[\\w^\\']*|[\\w^\\']*[A-Za-z]+[\\w^\\']*')\n",
        "    return pattern.findall(text.lower())"
      ]
    },
    {
      "cell_type": "code",
      "execution_count": null,
      "id": "242df7a5-6081-47a9-9bc1-55dff14b9159",
      "metadata": {
        "tags": [],
        "id": "242df7a5-6081-47a9-9bc1-55dff14b9159"
      },
      "outputs": [],
      "source": [
        "tokens = tokenize(sen)"
      ]
    },
    {
      "cell_type": "code",
      "execution_count": null,
      "id": "f27ecffc-8331-44a7-a69c-84eb5686e9f8",
      "metadata": {
        "tags": [],
        "colab": {
          "base_uri": "https://localhost:8080/",
          "height": 123
        },
        "id": "f27ecffc-8331-44a7-a69c-84eb5686e9f8",
        "outputId": "bb098036-221b-45fa-f834-703f42fdf805"
      },
      "outputs": [
        {
          "output_type": "execute_result",
          "data": {
            "text/plain": [
              "'Distant waves crashed. Silent moon rose. Hidden caves echoed. Rustic door creaked. Secret paths twisted. Shimmering lake sparkled. Lonely owl hooted. Mysterious mist lingered. Ancient ruins stood. Enchanted forest whispered. Fading sunlight waned. Forgotten tales echoed. Tranquil river flowed. Whispering winds danced. Eerie shadows crept. Timeless clock ticked. Enigmatic shadows played. Lush meadows stretched. Haunting melodies played. Endless possibilities unfolded. Gentle raindrops pattered. Tranquil rivers meandered. Moonlit night embraced. Forgotten dreams resurfaced. Elusive shadows danced. Gleaming stars twinkled. Hidden treasures awaited. Whispers of magic echoed. Timeless beauty enchanted. Reflective waters mirrored. Celestial bodies aligned. Mystic mountains soared. Mystic runes glowed. Radiant sunsets painted. Serene waters shimmered. Enigmatic doors opened. Mystical realms beckoned. Whispers of destiny called. Celestial beings watched. Harmonious echoes resonated. Wandering spirits roamed. Ethereal light bathed. Enchanted melodies played. Celestial wonders unfolded. Whispers of time echoed. Eternal flames flickered. Veiled secrets whispered. Shadows of the past. Celestial dance began. Harmonious symphony played. Silent whispers spoke. Timeless echoes resonated. Mysterious laughter echoed. Whispers of the wind. Serenity embraced all. Enigmatic tales unfolded. Whispers of the ancients. Celestial beings danced. Reflective waters flowed. Eternal flames burned. Harmonious melodies played. Celestial lights shimmered. Enchanted gazes met. Tranquil gardens bloomed. Moonlit shadows danced. Mysterious runes glowed. Reflective moonlight bathed. Tranquil meadows stretched. Whispers of the stars. Echoes of eternity lingered. Enigmatic doorways beckoned. Celestial wonders revealed. Mysterious mists veiled. Ethereal beauty surrounded. Tranquil spirits soared. Silent moonbeams danced. Whispering winds carried. Timeless echoes whispered. Mystical pathways opened. Celestial realms awaited. Harmonious waves echoed. Ethereal light embraced. Mysterious symbols glowed. Silent footsteps echoed. Timeless whispers spoke. Celestial symphony played. Enigmatic realms called. Tranquil reflections mirrored. Whispers of the night.'"
            ],
            "application/vnd.google.colaboratory.intrinsic+json": {
              "type": "string"
            }
          },
          "metadata": {},
          "execution_count": 61
        }
      ],
      "source": [
        "sen"
      ]
    },
    {
      "cell_type": "code",
      "execution_count": null,
      "id": "b057729e-5fae-4fb5-9e41-e6db590318d7",
      "metadata": {
        "tags": [],
        "colab": {
          "base_uri": "https://localhost:8080/"
        },
        "id": "b057729e-5fae-4fb5-9e41-e6db590318d7",
        "outputId": "2fc15058-9e5a-4b55-9b84-68dcdc34353b"
      },
      "outputs": [
        {
          "output_type": "execute_result",
          "data": {
            "text/plain": [
              "2250"
            ]
          },
          "metadata": {},
          "execution_count": 62
        }
      ],
      "source": [
        "len(sen)"
      ]
    },
    {
      "cell_type": "code",
      "execution_count": null,
      "id": "c6e9d442-1105-4cca-b08c-093a029c9233",
      "metadata": {
        "tags": [],
        "id": "c6e9d442-1105-4cca-b08c-093a029c9233"
      },
      "outputs": [],
      "source": [
        "def mapping(tokens):\n",
        "    word_to_id = {}\n",
        "    id_to_word = {}\n",
        "\n",
        "    for i, token in enumerate(set(tokens)):\n",
        "        word_to_id[token] = i\n",
        "        id_to_word[i] = token\n",
        "\n",
        "    return word_to_id, id_to_word"
      ]
    },
    {
      "cell_type": "code",
      "execution_count": null,
      "id": "f6d3904d-004d-4623-9885-638c4a7f90f9",
      "metadata": {
        "tags": [],
        "colab": {
          "base_uri": "https://localhost:8080/"
        },
        "id": "f6d3904d-004d-4623-9885-638c4a7f90f9",
        "outputId": "56d124b3-0dde-49c2-900a-9811c1a24dc4"
      },
      "outputs": [
        {
          "output_type": "execute_result",
          "data": {
            "text/plain": [
              "{'rustic': 0,\n",
              " 'lingered': 1,\n",
              " 'aligned': 2,\n",
              " 'burned': 3,\n",
              " 'caves': 4,\n",
              " 'spirits': 5,\n",
              " 'lights': 6,\n",
              " 'twisted': 7,\n",
              " 'spoke': 8,\n",
              " 'gardens': 9,\n",
              " 'timeless': 10,\n",
              " 'radiant': 11,\n",
              " 'lake': 12,\n",
              " 'beings': 13,\n",
              " 'waters': 14,\n",
              " 'past': 15,\n",
              " 'stretched': 16,\n",
              " 'elusive': 17,\n",
              " 'unfolded': 18,\n",
              " 'destiny': 19,\n",
              " 'secret': 20,\n",
              " 'roamed': 21,\n",
              " 'tranquil': 22,\n",
              " 'shimmered': 23,\n",
              " 'melodies': 24,\n",
              " 'fading': 25,\n",
              " 'serene': 26,\n",
              " 'mystical': 27,\n",
              " 'began': 28,\n",
              " 'ancients': 29,\n",
              " 'waves': 30,\n",
              " 'ruins': 31,\n",
              " 'river': 32,\n",
              " 'bodies': 33,\n",
              " 'treasures': 34,\n",
              " 'echoes': 35,\n",
              " 'ticked': 36,\n",
              " 'flowed': 37,\n",
              " 'embraced': 38,\n",
              " 'endless': 39,\n",
              " 'enchanted': 40,\n",
              " 'carried': 41,\n",
              " 'met': 42,\n",
              " 'door': 43,\n",
              " 'surrounded': 44,\n",
              " 'mists': 45,\n",
              " 'reflective': 46,\n",
              " 'stood': 47,\n",
              " 'sparkled': 48,\n",
              " 'moonlight': 49,\n",
              " 'ethereal': 50,\n",
              " 'beauty': 51,\n",
              " 'wandering': 52,\n",
              " 'glowed': 53,\n",
              " 'eternal': 54,\n",
              " 'ancient': 55,\n",
              " 'whispers': 56,\n",
              " 'moonbeams': 57,\n",
              " 'lonely': 58,\n",
              " 'forest': 59,\n",
              " 'runes': 60,\n",
              " 'painted': 61,\n",
              " 'night': 62,\n",
              " 'beckoned': 63,\n",
              " 'resonated': 64,\n",
              " 'symphony': 65,\n",
              " 'harmonious': 66,\n",
              " 'winds': 67,\n",
              " 'reflections': 68,\n",
              " 'possibilities': 69,\n",
              " 'waned': 70,\n",
              " 'shadows': 71,\n",
              " 'forgotten': 72,\n",
              " 'gentle': 73,\n",
              " 'realms': 74,\n",
              " 'veiled': 75,\n",
              " 'magic': 76,\n",
              " 'danced': 77,\n",
              " 'wonders': 78,\n",
              " 'dance': 79,\n",
              " 'mountains': 80,\n",
              " 'eerie': 81,\n",
              " 'gazes': 82,\n",
              " 'revealed': 83,\n",
              " 'moon': 84,\n",
              " 'laughter': 85,\n",
              " 'dreams': 86,\n",
              " 'meadows': 87,\n",
              " 'pattered': 88,\n",
              " 'silent': 89,\n",
              " 'meandered': 90,\n",
              " 'mystic': 91,\n",
              " 'bloomed': 92,\n",
              " 'symbols': 93,\n",
              " 'mist': 94,\n",
              " 'crashed': 95,\n",
              " 'twinkled': 96,\n",
              " 'mirrored': 97,\n",
              " 'pathways': 98,\n",
              " 'the': 99,\n",
              " 'of': 100,\n",
              " 'celestial': 101,\n",
              " 'gleaming': 102,\n",
              " 'haunting': 103,\n",
              " 'clock': 104,\n",
              " 'rivers': 105,\n",
              " 'stars': 106,\n",
              " 'raindrops': 107,\n",
              " 'serenity': 108,\n",
              " 'distant': 109,\n",
              " 'secrets': 110,\n",
              " 'hidden': 111,\n",
              " 'flames': 112,\n",
              " 'echoed': 113,\n",
              " 'creaked': 114,\n",
              " 'all': 115,\n",
              " 'soared': 116,\n",
              " 'whispering': 117,\n",
              " 'played': 118,\n",
              " 'moonlit': 119,\n",
              " 'footsteps': 120,\n",
              " 'light': 121,\n",
              " 'resurfaced': 122,\n",
              " 'doorways': 123,\n",
              " 'doors': 124,\n",
              " 'shimmering': 125,\n",
              " 'enigmatic': 126,\n",
              " 'called': 127,\n",
              " 'flickered': 128,\n",
              " 'crept': 129,\n",
              " 'awaited': 130,\n",
              " 'watched': 131,\n",
              " 'bathed': 132,\n",
              " 'hooted': 133,\n",
              " 'whispered': 134,\n",
              " 'time': 135,\n",
              " 'lush': 136,\n",
              " 'sunsets': 137,\n",
              " 'rose': 138,\n",
              " 'tales': 139,\n",
              " 'wind': 140,\n",
              " 'opened': 141,\n",
              " 'eternity': 142,\n",
              " 'owl': 143,\n",
              " 'sunlight': 144,\n",
              " 'mysterious': 145,\n",
              " 'paths': 146}"
            ]
          },
          "metadata": {},
          "execution_count": 64
        }
      ],
      "source": [
        "word_to_id, id_to_word = mapping(tokens)\n",
        "word_to_id"
      ]
    },
    {
      "cell_type": "code",
      "execution_count": null,
      "id": "5da8c0db-ec7f-4772-948e-892779646a36",
      "metadata": {
        "tags": [],
        "colab": {
          "base_uri": "https://localhost:8080/"
        },
        "id": "5da8c0db-ec7f-4772-948e-892779646a36",
        "outputId": "de4ee33e-cc35-4b84-ad4a-75b5362d743a"
      },
      "outputs": [
        {
          "output_type": "execute_result",
          "data": {
            "text/plain": [
              "{0: 'rustic',\n",
              " 1: 'lingered',\n",
              " 2: 'aligned',\n",
              " 3: 'burned',\n",
              " 4: 'caves',\n",
              " 5: 'spirits',\n",
              " 6: 'lights',\n",
              " 7: 'twisted',\n",
              " 8: 'spoke',\n",
              " 9: 'gardens',\n",
              " 10: 'timeless',\n",
              " 11: 'radiant',\n",
              " 12: 'lake',\n",
              " 13: 'beings',\n",
              " 14: 'waters',\n",
              " 15: 'past',\n",
              " 16: 'stretched',\n",
              " 17: 'elusive',\n",
              " 18: 'unfolded',\n",
              " 19: 'destiny',\n",
              " 20: 'secret',\n",
              " 21: 'roamed',\n",
              " 22: 'tranquil',\n",
              " 23: 'shimmered',\n",
              " 24: 'melodies',\n",
              " 25: 'fading',\n",
              " 26: 'serene',\n",
              " 27: 'mystical',\n",
              " 28: 'began',\n",
              " 29: 'ancients',\n",
              " 30: 'waves',\n",
              " 31: 'ruins',\n",
              " 32: 'river',\n",
              " 33: 'bodies',\n",
              " 34: 'treasures',\n",
              " 35: 'echoes',\n",
              " 36: 'ticked',\n",
              " 37: 'flowed',\n",
              " 38: 'embraced',\n",
              " 39: 'endless',\n",
              " 40: 'enchanted',\n",
              " 41: 'carried',\n",
              " 42: 'met',\n",
              " 43: 'door',\n",
              " 44: 'surrounded',\n",
              " 45: 'mists',\n",
              " 46: 'reflective',\n",
              " 47: 'stood',\n",
              " 48: 'sparkled',\n",
              " 49: 'moonlight',\n",
              " 50: 'ethereal',\n",
              " 51: 'beauty',\n",
              " 52: 'wandering',\n",
              " 53: 'glowed',\n",
              " 54: 'eternal',\n",
              " 55: 'ancient',\n",
              " 56: 'whispers',\n",
              " 57: 'moonbeams',\n",
              " 58: 'lonely',\n",
              " 59: 'forest',\n",
              " 60: 'runes',\n",
              " 61: 'painted',\n",
              " 62: 'night',\n",
              " 63: 'beckoned',\n",
              " 64: 'resonated',\n",
              " 65: 'symphony',\n",
              " 66: 'harmonious',\n",
              " 67: 'winds',\n",
              " 68: 'reflections',\n",
              " 69: 'possibilities',\n",
              " 70: 'waned',\n",
              " 71: 'shadows',\n",
              " 72: 'forgotten',\n",
              " 73: 'gentle',\n",
              " 74: 'realms',\n",
              " 75: 'veiled',\n",
              " 76: 'magic',\n",
              " 77: 'danced',\n",
              " 78: 'wonders',\n",
              " 79: 'dance',\n",
              " 80: 'mountains',\n",
              " 81: 'eerie',\n",
              " 82: 'gazes',\n",
              " 83: 'revealed',\n",
              " 84: 'moon',\n",
              " 85: 'laughter',\n",
              " 86: 'dreams',\n",
              " 87: 'meadows',\n",
              " 88: 'pattered',\n",
              " 89: 'silent',\n",
              " 90: 'meandered',\n",
              " 91: 'mystic',\n",
              " 92: 'bloomed',\n",
              " 93: 'symbols',\n",
              " 94: 'mist',\n",
              " 95: 'crashed',\n",
              " 96: 'twinkled',\n",
              " 97: 'mirrored',\n",
              " 98: 'pathways',\n",
              " 99: 'the',\n",
              " 100: 'of',\n",
              " 101: 'celestial',\n",
              " 102: 'gleaming',\n",
              " 103: 'haunting',\n",
              " 104: 'clock',\n",
              " 105: 'rivers',\n",
              " 106: 'stars',\n",
              " 107: 'raindrops',\n",
              " 108: 'serenity',\n",
              " 109: 'distant',\n",
              " 110: 'secrets',\n",
              " 111: 'hidden',\n",
              " 112: 'flames',\n",
              " 113: 'echoed',\n",
              " 114: 'creaked',\n",
              " 115: 'all',\n",
              " 116: 'soared',\n",
              " 117: 'whispering',\n",
              " 118: 'played',\n",
              " 119: 'moonlit',\n",
              " 120: 'footsteps',\n",
              " 121: 'light',\n",
              " 122: 'resurfaced',\n",
              " 123: 'doorways',\n",
              " 124: 'doors',\n",
              " 125: 'shimmering',\n",
              " 126: 'enigmatic',\n",
              " 127: 'called',\n",
              " 128: 'flickered',\n",
              " 129: 'crept',\n",
              " 130: 'awaited',\n",
              " 131: 'watched',\n",
              " 132: 'bathed',\n",
              " 133: 'hooted',\n",
              " 134: 'whispered',\n",
              " 135: 'time',\n",
              " 136: 'lush',\n",
              " 137: 'sunsets',\n",
              " 138: 'rose',\n",
              " 139: 'tales',\n",
              " 140: 'wind',\n",
              " 141: 'opened',\n",
              " 142: 'eternity',\n",
              " 143: 'owl',\n",
              " 144: 'sunlight',\n",
              " 145: 'mysterious',\n",
              " 146: 'paths'}"
            ]
          },
          "metadata": {},
          "execution_count": 65
        }
      ],
      "source": [
        "id_to_word"
      ]
    },
    {
      "cell_type": "code",
      "execution_count": null,
      "id": "592a9a13-1c42-4607-926b-79fca46ac0d2",
      "metadata": {
        "tags": [],
        "id": "592a9a13-1c42-4607-926b-79fca46ac0d2"
      },
      "outputs": [],
      "source": [
        "import numpy as np\n",
        "\n",
        "np.random.seed(42)\n",
        "\n",
        "def generate_training_data(tokens, word_to_id, window):\n",
        "    X = []\n",
        "    y = []\n",
        "    n_tokens = len(tokens)\n",
        "\n",
        "    for i in range(n_tokens):\n",
        "        idx = concat(\n",
        "            range(max(0, i - window), i),\n",
        "            range(i, min(n_tokens, i + window))\n",
        "        )\n",
        "        for j in idx:\n",
        "            if i == j:\n",
        "                continue\n",
        "            X.append(one_hot_encode(word_to_id[tokens[i]], len(word_to_id)))\n",
        "            y.append(one_hot_encode(word_to_id[tokens[j]], len(word_to_id)))\n",
        "\n",
        "    return np.asarray(X), np.asarray(y)"
      ]
    },
    {
      "cell_type": "code",
      "execution_count": null,
      "id": "68cdd7b8-a503-43d5-b3ba-be9f12c80be1",
      "metadata": {
        "tags": [],
        "id": "68cdd7b8-a503-43d5-b3ba-be9f12c80be1"
      },
      "outputs": [],
      "source": [
        "def concat(*iterables):\n",
        "    for iterable in iterables:\n",
        "        yield from iterable"
      ]
    },
    {
      "cell_type": "code",
      "execution_count": null,
      "id": "eac770b0-a069-4b5c-9de5-39d52e5488ea",
      "metadata": {
        "tags": [],
        "id": "eac770b0-a069-4b5c-9de5-39d52e5488ea"
      },
      "outputs": [],
      "source": [
        "def one_hot_encode(id, vocab_size):\n",
        "    res = [0] * vocab_size\n",
        "    res[id] = 1\n",
        "    return res"
      ]
    },
    {
      "cell_type": "code",
      "execution_count": null,
      "id": "020a1d2d-7f19-4f75-8668-5b959859da42",
      "metadata": {
        "tags": [],
        "id": "020a1d2d-7f19-4f75-8668-5b959859da42"
      },
      "outputs": [],
      "source": [
        "X, y = generate_training_data(tokens, word_to_id,1)"
      ]
    },
    {
      "cell_type": "code",
      "execution_count": null,
      "id": "98a590b4-e919-4c29-afbb-da5b8bd4de03",
      "metadata": {
        "tags": [],
        "colab": {
          "base_uri": "https://localhost:8080/"
        },
        "id": "98a590b4-e919-4c29-afbb-da5b8bd4de03",
        "outputId": "96e0ba6a-d226-43fc-a05a-687662200bce"
      },
      "outputs": [
        {
          "output_type": "execute_result",
          "data": {
            "text/plain": [
              "array([[0, 0, 0, ..., 0, 0, 0],\n",
              "       [0, 0, 0, ..., 0, 0, 0],\n",
              "       [0, 0, 0, ..., 0, 0, 0],\n",
              "       ...,\n",
              "       [0, 0, 0, ..., 0, 0, 0],\n",
              "       [0, 0, 0, ..., 0, 0, 0],\n",
              "       [0, 0, 0, ..., 0, 0, 0]])"
            ]
          },
          "metadata": {},
          "execution_count": 70
        }
      ],
      "source": [
        "X"
      ]
    },
    {
      "cell_type": "code",
      "execution_count": null,
      "id": "b19574f8-1220-442f-af9f-99bb0d02986b",
      "metadata": {
        "tags": [],
        "colab": {
          "base_uri": "https://localhost:8080/"
        },
        "id": "b19574f8-1220-442f-af9f-99bb0d02986b",
        "outputId": "4ede19d4-6ef8-485d-fdef-6dd8ab0b42d0"
      },
      "outputs": [
        {
          "output_type": "execute_result",
          "data": {
            "text/plain": [
              "(275, 147)"
            ]
          },
          "metadata": {},
          "execution_count": 71
        }
      ],
      "source": [
        "X.shape"
      ]
    },
    {
      "cell_type": "code",
      "execution_count": null,
      "id": "139385ad-c2be-4d89-8321-3bf68cb2592d",
      "metadata": {
        "tags": [],
        "colab": {
          "base_uri": "https://localhost:8080/"
        },
        "id": "139385ad-c2be-4d89-8321-3bf68cb2592d",
        "outputId": "4ed61fdc-6219-41bc-ac7f-8de01726b291"
      },
      "outputs": [
        {
          "output_type": "execute_result",
          "data": {
            "text/plain": [
              "(275, 147)"
            ]
          },
          "metadata": {},
          "execution_count": 72
        }
      ],
      "source": [
        "y.shape"
      ]
    },
    {
      "cell_type": "code",
      "execution_count": null,
      "id": "f96e944e-00f6-43e7-9891-694c1284af04",
      "metadata": {
        "tags": [],
        "colab": {
          "base_uri": "https://localhost:8080/"
        },
        "id": "f96e944e-00f6-43e7-9891-694c1284af04",
        "outputId": "50ed720b-82e8-4b0a-c4fe-314fad61304b"
      },
      "outputs": [
        {
          "output_type": "execute_result",
          "data": {
            "text/plain": [
              "(147, 4)"
            ]
          },
          "metadata": {},
          "execution_count": 73
        }
      ],
      "source": [
        "embedding_weights_one = np.random.uniform(-1, 1, size=(X.shape[1], 4))\n",
        "embedded_input_one = np.dot(X, embedding_weights_one)\n",
        "embedding_weights_one.shape"
      ]
    },
    {
      "cell_type": "code",
      "execution_count": null,
      "id": "d0bc5343-5f58-474e-9227-fb3d178e2b89",
      "metadata": {
        "tags": [],
        "id": "d0bc5343-5f58-474e-9227-fb3d178e2b89"
      },
      "outputs": [],
      "source": [
        "embedding_weights_two = np.random.uniform(-1, 1, size=(embedded_input_one.shape[1], 4))"
      ]
    },
    {
      "cell_type": "code",
      "source": [
        "!pip install qiskit==0.36.0"
      ],
      "metadata": {
        "colab": {
          "base_uri": "https://localhost:8080/"
        },
        "id": "s_pAI8RgUB3h",
        "outputId": "43a3b8b1-fadd-41fa-b203-5e8198c58bb2"
      },
      "id": "s_pAI8RgUB3h",
      "execution_count": null,
      "outputs": [
        {
          "output_type": "stream",
          "name": "stdout",
          "text": [
            "Requirement already satisfied: qiskit==0.36.0 in /usr/local/lib/python3.10/dist-packages (0.36.0)\n",
            "Requirement already satisfied: qiskit-terra==0.20.0 in /usr/local/lib/python3.10/dist-packages (from qiskit==0.36.0) (0.20.0)\n",
            "Requirement already satisfied: qiskit-aer==0.10.4 in /usr/local/lib/python3.10/dist-packages (from qiskit==0.36.0) (0.10.4)\n",
            "Requirement already satisfied: qiskit-ibmq-provider==0.19.0 in /usr/local/lib/python3.10/dist-packages (from qiskit==0.36.0) (0.19.0)\n",
            "Requirement already satisfied: qiskit-ignis==0.7.0 in /usr/local/lib/python3.10/dist-packages (from qiskit==0.36.0) (0.7.0)\n",
            "Requirement already satisfied: numpy>=1.16.3 in /usr/local/lib/python3.10/dist-packages (from qiskit-aer==0.10.4->qiskit==0.36.0) (1.25.2)\n",
            "Requirement already satisfied: scipy>=1.0 in /usr/local/lib/python3.10/dist-packages (from qiskit-aer==0.10.4->qiskit==0.36.0) (1.11.4)\n",
            "Requirement already satisfied: requests>=2.19 in /usr/local/lib/python3.10/dist-packages (from qiskit-ibmq-provider==0.19.0->qiskit==0.36.0) (2.31.0)\n",
            "Requirement already satisfied: requests-ntlm>=1.1.0 in /usr/local/lib/python3.10/dist-packages (from qiskit-ibmq-provider==0.19.0->qiskit==0.36.0) (1.2.0)\n",
            "Requirement already satisfied: urllib3>=1.21.1 in /usr/local/lib/python3.10/dist-packages (from qiskit-ibmq-provider==0.19.0->qiskit==0.36.0) (2.0.7)\n",
            "Requirement already satisfied: python-dateutil>=2.8.0 in /usr/local/lib/python3.10/dist-packages (from qiskit-ibmq-provider==0.19.0->qiskit==0.36.0) (2.8.2)\n",
            "Requirement already satisfied: websocket-client>=1.0.1 in /usr/local/lib/python3.10/dist-packages (from qiskit-ibmq-provider==0.19.0->qiskit==0.36.0) (1.7.0)\n",
            "Requirement already satisfied: websockets>=10.0 in /usr/local/lib/python3.10/dist-packages (from qiskit-ibmq-provider==0.19.0->qiskit==0.36.0) (12.0)\n",
            "Requirement already satisfied: retworkx>=0.8.0 in /usr/local/lib/python3.10/dist-packages (from qiskit-ignis==0.7.0->qiskit==0.36.0) (0.14.0)\n",
            "Requirement already satisfied: setuptools>=40.1.0 in /usr/local/lib/python3.10/dist-packages (from qiskit-ignis==0.7.0->qiskit==0.36.0) (67.7.2)\n",
            "Requirement already satisfied: ply>=3.10 in /usr/local/lib/python3.10/dist-packages (from qiskit-terra==0.20.0->qiskit==0.36.0) (3.11)\n",
            "Requirement already satisfied: psutil>=5 in /usr/local/lib/python3.10/dist-packages (from qiskit-terra==0.20.0->qiskit==0.36.0) (5.9.5)\n",
            "Requirement already satisfied: sympy>=1.3 in /usr/local/lib/python3.10/dist-packages (from qiskit-terra==0.20.0->qiskit==0.36.0) (1.12)\n",
            "Requirement already satisfied: dill>=0.3 in /usr/local/lib/python3.10/dist-packages (from qiskit-terra==0.20.0->qiskit==0.36.0) (0.3.8)\n",
            "Requirement already satisfied: python-constraint>=1.4 in /usr/local/lib/python3.10/dist-packages (from qiskit-terra==0.20.0->qiskit==0.36.0) (1.4.0)\n",
            "Requirement already satisfied: stevedore>=3.0.0 in /usr/local/lib/python3.10/dist-packages (from qiskit-terra==0.20.0->qiskit==0.36.0) (5.1.0)\n",
            "Requirement already satisfied: tweedledum<2.0,>=1.1 in /usr/local/lib/python3.10/dist-packages (from qiskit-terra==0.20.0->qiskit==0.36.0) (1.1.1)\n",
            "Requirement already satisfied: symengine>=0.9 in /usr/local/lib/python3.10/dist-packages (from qiskit-terra==0.20.0->qiskit==0.36.0) (0.11.0)\n",
            "Requirement already satisfied: six>=1.5 in /usr/local/lib/python3.10/dist-packages (from python-dateutil>=2.8.0->qiskit-ibmq-provider==0.19.0->qiskit==0.36.0) (1.16.0)\n",
            "Requirement already satisfied: charset-normalizer<4,>=2 in /usr/local/lib/python3.10/dist-packages (from requests>=2.19->qiskit-ibmq-provider==0.19.0->qiskit==0.36.0) (3.3.2)\n",
            "Requirement already satisfied: idna<4,>=2.5 in /usr/local/lib/python3.10/dist-packages (from requests>=2.19->qiskit-ibmq-provider==0.19.0->qiskit==0.36.0) (3.6)\n",
            "Requirement already satisfied: certifi>=2017.4.17 in /usr/local/lib/python3.10/dist-packages (from requests>=2.19->qiskit-ibmq-provider==0.19.0->qiskit==0.36.0) (2024.2.2)\n",
            "Requirement already satisfied: cryptography>=1.3 in /usr/local/lib/python3.10/dist-packages (from requests-ntlm>=1.1.0->qiskit-ibmq-provider==0.19.0->qiskit==0.36.0) (42.0.3)\n",
            "Requirement already satisfied: pyspnego>=0.1.6 in /usr/local/lib/python3.10/dist-packages (from requests-ntlm>=1.1.0->qiskit-ibmq-provider==0.19.0->qiskit==0.36.0) (0.10.2)\n",
            "Requirement already satisfied: rustworkx==0.14.0 in /usr/local/lib/python3.10/dist-packages (from retworkx>=0.8.0->qiskit-ignis==0.7.0->qiskit==0.36.0) (0.14.0)\n",
            "Requirement already satisfied: pbr!=2.1.0,>=2.0.0 in /usr/local/lib/python3.10/dist-packages (from stevedore>=3.0.0->qiskit-terra==0.20.0->qiskit==0.36.0) (6.0.0)\n",
            "Requirement already satisfied: mpmath>=0.19 in /usr/local/lib/python3.10/dist-packages (from sympy>=1.3->qiskit-terra==0.20.0->qiskit==0.36.0) (1.3.0)\n",
            "Requirement already satisfied: cffi>=1.12 in /usr/local/lib/python3.10/dist-packages (from cryptography>=1.3->requests-ntlm>=1.1.0->qiskit-ibmq-provider==0.19.0->qiskit==0.36.0) (1.16.0)\n",
            "Requirement already satisfied: pycparser in /usr/local/lib/python3.10/dist-packages (from cffi>=1.12->cryptography>=1.3->requests-ntlm>=1.1.0->qiskit-ibmq-provider==0.19.0->qiskit==0.36.0) (2.21)\n"
          ]
        }
      ]
    },
    {
      "cell_type": "code",
      "execution_count": null,
      "id": "50d195f3-07bc-4e4c-abe4-b3f009ac5ede",
      "metadata": {
        "tags": [],
        "colab": {
          "base_uri": "https://localhost:8080/"
        },
        "id": "50d195f3-07bc-4e4c-abe4-b3f009ac5ede",
        "outputId": "03233495-e85a-47f1-b614-fe4b1c56a5f3"
      },
      "outputs": [
        {
          "output_type": "execute_result",
          "data": {
            "text/plain": [
              "array([[ 0.03071718,  0.03957455, -0.01818377, -0.03896077],\n",
              "       [-0.03815019,  0.01965654,  0.01288303,  0.03771425],\n",
              "       [-0.04730754,  0.00857007,  0.0439846 ,  0.00754083],\n",
              "       ...,\n",
              "       [-0.03965297,  0.04022015,  0.00052478,  0.03261725],\n",
              "       [ 0.03580999, -0.0070944 ,  0.02506521,  0.02543207],\n",
              "       [ 0.04632153,  0.03527013, -0.02053717, -0.0114802 ]])"
            ]
          },
          "metadata": {},
          "execution_count": 76
        }
      ],
      "source": [
        "from numpy import linalg as a\n",
        "import numpy as np\n",
        "from qiskit import QuantumCircuit\n",
        "from qiskit.circuit import ParameterVector\n",
        "\n",
        "norm = a.norm(embedded_input_one)\n",
        "norm_vector = embedded_input_one / norm\n",
        "norm_vector"
      ]
    },
    {
      "cell_type": "code",
      "execution_count": null,
      "id": "c93546eb-d3dd-41cc-a0d6-7cf48668a793",
      "metadata": {
        "tags": [],
        "colab": {
          "base_uri": "https://localhost:8080/"
        },
        "id": "c93546eb-d3dd-41cc-a0d6-7cf48668a793",
        "outputId": "c9358392-9578-40a8-db69-89dd6766e3a7"
      },
      "outputs": [
        {
          "output_type": "execute_result",
          "data": {
            "text/plain": [
              "array([[-0.02832625, -0.00443093,  0.04557556,  0.05534004],\n",
              "       [-0.00478046, -0.00465097,  0.01086548, -0.054626  ],\n",
              "       [ 0.03948676, -0.00187501,  0.0090331 , -0.06036764],\n",
              "       ...,\n",
              "       [-0.01751248,  0.00040415,  0.03916791, -0.04057941],\n",
              "       [-0.0305652 , -0.05042948, -0.0633514 , -0.03347784],\n",
              "       [-0.05618017, -0.02459257,  0.01458439,  0.03951638]])"
            ]
          },
          "metadata": {},
          "execution_count": 77
        }
      ],
      "source": [
        "n = norm_vector.shape[1]\n",
        "m = embedding_weights_two.shape[1]\n",
        "\n",
        "inputs = ParameterVector(\"input\", n)\n",
        "qc = QuantumCircuit(n)\n",
        "for i in range(n):\n",
        "    qc.ry(inputs[i], i)\n",
        "\n",
        "for i in range(n - 1):\n",
        "    qc.cx(i, i+1)\n",
        "\n",
        "\n",
        "parameter_values = np.dot(norm_vector, embedding_weights_two)\n",
        "parameter_values"
      ]
    },
    {
      "cell_type": "code",
      "execution_count": null,
      "id": "2ab71c46-d348-41c0-ac62-499f4b3729c2",
      "metadata": {
        "tags": [],
        "colab": {
          "base_uri": "https://localhost:8080/"
        },
        "id": "2ab71c46-d348-41c0-ac62-499f4b3729c2",
        "outputId": "6fd9fefd-708f-401f-8309-30f3f9e869dc"
      },
      "outputs": [
        {
          "output_type": "execute_result",
          "data": {
            "text/plain": [
              "ParameterView([ParameterVectorElement(input[0]), ParameterVectorElement(input[1]), ParameterVectorElement(input[2]), ParameterVectorElement(input[3])])"
            ]
          },
          "metadata": {},
          "execution_count": 78
        }
      ],
      "source": [
        "qc.parameters"
      ]
    },
    {
      "cell_type": "code",
      "execution_count": null,
      "id": "d1af5fc9-8338-4c2a-93c1-667a6ebe9323",
      "metadata": {
        "tags": [],
        "colab": {
          "base_uri": "https://localhost:8080/",
          "height": 156
        },
        "id": "d1af5fc9-8338-4c2a-93c1-667a6ebe9323",
        "outputId": "ff81e933-7b79-4e39-9dda-6ee354418d2d"
      },
      "outputs": [
        {
          "output_type": "execute_result",
          "data": {
            "text/plain": [
              "     ┌──────────────┐               \n",
              "q_0: ┤ Ry(input[0]) ├──■────────────\n",
              "     ├──────────────┤┌─┴─┐          \n",
              "q_1: ┤ Ry(input[1]) ├┤ X ├──■───────\n",
              "     ├──────────────┤└───┘┌─┴─┐     \n",
              "q_2: ┤ Ry(input[2]) ├─────┤ X ├──■──\n",
              "     ├──────────────┤     └───┘┌─┴─┐\n",
              "q_3: ┤ Ry(input[3]) ├──────────┤ X ├\n",
              "     └──────────────┘          └───┘"
            ],
            "text/html": [
              "<pre style=\"word-wrap: normal;white-space: pre;background: #fff0;line-height: 1.1;font-family: &quot;Courier New&quot;,Courier,monospace\">     ┌──────────────┐               \n",
              "q_0: ┤ Ry(input[0]) ├──■────────────\n",
              "     ├──────────────┤┌─┴─┐          \n",
              "q_1: ┤ Ry(input[1]) ├┤ X ├──■───────\n",
              "     ├──────────────┤└───┘┌─┴─┐     \n",
              "q_2: ┤ Ry(input[2]) ├─────┤ X ├──■──\n",
              "     ├──────────────┤     └───┘┌─┴─┐\n",
              "q_3: ┤ Ry(input[3]) ├──────────┤ X ├\n",
              "     └──────────────┘          └───┘</pre>"
            ]
          },
          "metadata": {},
          "execution_count": 79
        }
      ],
      "source": [
        "qc.draw()"
      ]
    },
    {
      "cell_type": "code",
      "execution_count": null,
      "id": "f98e8f2c-ee1c-4e62-af04-ecbd9ffae8db",
      "metadata": {
        "tags": [],
        "colab": {
          "base_uri": "https://localhost:8080/",
          "height": 186
        },
        "id": "f98e8f2c-ee1c-4e62-af04-ecbd9ffae8db",
        "outputId": "e6010eed-a84a-4348-eb45-cb2267bd7d33"
      },
      "outputs": [
        {
          "output_type": "execute_result",
          "data": {
            "text/plain": [
              "        ┌──────────────┐                ░ ┌─┐         \n",
              "   q_0: ┤ Ry(input[0]) ├──■─────────────░─┤M├─────────\n",
              "        ├──────────────┤┌─┴─┐           ░ └╥┘┌─┐      \n",
              "   q_1: ┤ Ry(input[1]) ├┤ X ├──■────────░──╫─┤M├──────\n",
              "        ├──────────────┤└───┘┌─┴─┐      ░  ║ └╥┘┌─┐   \n",
              "   q_2: ┤ Ry(input[2]) ├─────┤ X ├──■───░──╫──╫─┤M├───\n",
              "        ├──────────────┤     └───┘┌─┴─┐ ░  ║  ║ └╥┘┌─┐\n",
              "   q_3: ┤ Ry(input[3]) ├──────────┤ X ├─░──╫──╫──╫─┤M├\n",
              "        └──────────────┘          └───┘ ░  ║  ║  ║ └╥┘\n",
              "meas: 4/═══════════════════════════════════╩══╩══╩══╩═\n",
              "                                           0  1  2  3 "
            ],
            "text/html": [
              "<pre style=\"word-wrap: normal;white-space: pre;background: #fff0;line-height: 1.1;font-family: &quot;Courier New&quot;,Courier,monospace\">        ┌──────────────┐                ░ ┌─┐         \n",
              "   q_0: ┤ Ry(input[0]) ├──■─────────────░─┤M├─────────\n",
              "        ├──────────────┤┌─┴─┐           ░ └╥┘┌─┐      \n",
              "   q_1: ┤ Ry(input[1]) ├┤ X ├──■────────░──╫─┤M├──────\n",
              "        ├──────────────┤└───┘┌─┴─┐      ░  ║ └╥┘┌─┐   \n",
              "   q_2: ┤ Ry(input[2]) ├─────┤ X ├──■───░──╫──╫─┤M├───\n",
              "        ├──────────────┤     └───┘┌─┴─┐ ░  ║  ║ └╥┘┌─┐\n",
              "   q_3: ┤ Ry(input[3]) ├──────────┤ X ├─░──╫──╫──╫─┤M├\n",
              "        └──────────────┘          └───┘ ░  ║  ║  ║ └╥┘\n",
              "meas: 4/═══════════════════════════════════╩══╩══╩══╩═\n",
              "                                           0  1  2  3 </pre>"
            ]
          },
          "metadata": {},
          "execution_count": 80
        }
      ],
      "source": [
        "com_qc = qc.copy()\n",
        "com_qc.measure_all()\n",
        "com_qc.draw()"
      ]
    },
    {
      "cell_type": "code",
      "execution_count": null,
      "id": "2d4385aa-8099-4957-b7d0-d5dd6468218a",
      "metadata": {
        "tags": [],
        "colab": {
          "base_uri": "https://localhost:8080/"
        },
        "id": "2d4385aa-8099-4957-b7d0-d5dd6468218a",
        "outputId": "7eead171-4d2e-40a5-f20d-056ae6c91afa"
      },
      "outputs": [
        {
          "output_type": "execute_result",
          "data": {
            "text/plain": [
              "ParameterView([ParameterVectorElement(input[0]), ParameterVectorElement(input[1]), ParameterVectorElement(input[2]), ParameterVectorElement(input[3])])"
            ]
          },
          "metadata": {},
          "execution_count": 81
        }
      ],
      "source": [
        "com_qc.parameters"
      ]
    },
    {
      "cell_type": "code",
      "execution_count": null,
      "id": "88636ab3-1f58-4c0d-adaa-328ebb107fca",
      "metadata": {
        "tags": [],
        "colab": {
          "base_uri": "https://localhost:8080/",
          "height": 186
        },
        "id": "88636ab3-1f58-4c0d-adaa-328ebb107fca",
        "outputId": "11f69447-f95d-466b-8361-a3aa98869501"
      },
      "outputs": [
        {
          "output_type": "execute_result",
          "data": {
            "text/plain": [
              "        ┌─────────────────────────┐                 ░ ┌─┐         \n",
              "   q_0: ┤ Ry(-0.0283262450003216) ├───■─────────────░─┤M├─────────\n",
              "        ├─────────────────────────┴┐┌─┴─┐           ░ └╥┘┌─┐      \n",
              "   q_1: ┤ Ry(-0.00443093279882177) ├┤ X ├──■────────░──╫─┤M├──────\n",
              "        └┬────────────────────────┬┘└───┘┌─┴─┐      ░  ║ └╥┘┌─┐   \n",
              "   q_2: ─┤ Ry(0.0455755562819306) ├──────┤ X ├──■───░──╫──╫─┤M├───\n",
              "         ├────────────────────────┤      └───┘┌─┴─┐ ░  ║  ║ └╥┘┌─┐\n",
              "   q_3: ─┤ Ry(0.0553400413498314) ├───────────┤ X ├─░──╫──╫──╫─┤M├\n",
              "         └────────────────────────┘           └───┘ ░  ║  ║  ║ └╥┘\n",
              "meas: 4/═══════════════════════════════════════════════╩══╩══╩══╩═\n",
              "                                                       0  1  2  3 "
            ],
            "text/html": [
              "<pre style=\"word-wrap: normal;white-space: pre;background: #fff0;line-height: 1.1;font-family: &quot;Courier New&quot;,Courier,monospace\">        ┌─────────────────────────┐                 ░ ┌─┐         \n",
              "   q_0: ┤ Ry(-0.0283262450003216) ├───■─────────────░─┤M├─────────\n",
              "        ├─────────────────────────┴┐┌─┴─┐           ░ └╥┘┌─┐      \n",
              "   q_1: ┤ Ry(-0.00443093279882177) ├┤ X ├──■────────░──╫─┤M├──────\n",
              "        └┬────────────────────────┬┘└───┘┌─┴─┐      ░  ║ └╥┘┌─┐   \n",
              "   q_2: ─┤ Ry(0.0455755562819306) ├──────┤ X ├──■───░──╫──╫─┤M├───\n",
              "         ├────────────────────────┤      └───┘┌─┴─┐ ░  ║  ║ └╥┘┌─┐\n",
              "   q_3: ─┤ Ry(0.0553400413498314) ├───────────┤ X ├─░──╫──╫──╫─┤M├\n",
              "         └────────────────────────┘           └───┘ ░  ║  ║  ║ └╥┘\n",
              "meas: 4/═══════════════════════════════════════════════╩══╩══╩══╩═\n",
              "                                                       0  1  2  3 </pre>"
            ]
          },
          "metadata": {},
          "execution_count": 82
        }
      ],
      "source": [
        "shot = 1024\n",
        "bound_circuit = com_qc.assign_parameters(dict(zip(com_qc.parameters, parameter_values.flatten())))\n",
        "bound_circuit.draw()"
      ]
    },
    {
      "cell_type": "code",
      "source": [
        "!pip install qiskit-aer"
      ],
      "metadata": {
        "colab": {
          "base_uri": "https://localhost:8080/"
        },
        "id": "NvQLELh6U69U",
        "outputId": "6fb9ec56-6806-4eb0-c389-51ed86d533f2"
      },
      "id": "NvQLELh6U69U",
      "execution_count": null,
      "outputs": [
        {
          "output_type": "stream",
          "name": "stdout",
          "text": [
            "Requirement already satisfied: qiskit-aer in /usr/local/lib/python3.10/dist-packages (0.10.4)\n",
            "Requirement already satisfied: numpy>=1.16.3 in /usr/local/lib/python3.10/dist-packages (from qiskit-aer) (1.25.2)\n",
            "Requirement already satisfied: qiskit-terra>=0.19.1 in /usr/local/lib/python3.10/dist-packages (from qiskit-aer) (0.20.0)\n",
            "Requirement already satisfied: scipy>=1.0 in /usr/local/lib/python3.10/dist-packages (from qiskit-aer) (1.11.4)\n",
            "Requirement already satisfied: retworkx>=0.11.0 in /usr/local/lib/python3.10/dist-packages (from qiskit-terra>=0.19.1->qiskit-aer) (0.14.0)\n",
            "Requirement already satisfied: ply>=3.10 in /usr/local/lib/python3.10/dist-packages (from qiskit-terra>=0.19.1->qiskit-aer) (3.11)\n",
            "Requirement already satisfied: psutil>=5 in /usr/local/lib/python3.10/dist-packages (from qiskit-terra>=0.19.1->qiskit-aer) (5.9.5)\n",
            "Requirement already satisfied: sympy>=1.3 in /usr/local/lib/python3.10/dist-packages (from qiskit-terra>=0.19.1->qiskit-aer) (1.12)\n",
            "Requirement already satisfied: dill>=0.3 in /usr/local/lib/python3.10/dist-packages (from qiskit-terra>=0.19.1->qiskit-aer) (0.3.8)\n",
            "Requirement already satisfied: python-constraint>=1.4 in /usr/local/lib/python3.10/dist-packages (from qiskit-terra>=0.19.1->qiskit-aer) (1.4.0)\n",
            "Requirement already satisfied: python-dateutil>=2.8.0 in /usr/local/lib/python3.10/dist-packages (from qiskit-terra>=0.19.1->qiskit-aer) (2.8.2)\n",
            "Requirement already satisfied: stevedore>=3.0.0 in /usr/local/lib/python3.10/dist-packages (from qiskit-terra>=0.19.1->qiskit-aer) (5.1.0)\n",
            "Requirement already satisfied: tweedledum<2.0,>=1.1 in /usr/local/lib/python3.10/dist-packages (from qiskit-terra>=0.19.1->qiskit-aer) (1.1.1)\n",
            "Requirement already satisfied: symengine>=0.9 in /usr/local/lib/python3.10/dist-packages (from qiskit-terra>=0.19.1->qiskit-aer) (0.11.0)\n",
            "Requirement already satisfied: six>=1.5 in /usr/local/lib/python3.10/dist-packages (from python-dateutil>=2.8.0->qiskit-terra>=0.19.1->qiskit-aer) (1.16.0)\n",
            "Requirement already satisfied: rustworkx==0.14.0 in /usr/local/lib/python3.10/dist-packages (from retworkx>=0.11.0->qiskit-terra>=0.19.1->qiskit-aer) (0.14.0)\n",
            "Requirement already satisfied: pbr!=2.1.0,>=2.0.0 in /usr/local/lib/python3.10/dist-packages (from stevedore>=3.0.0->qiskit-terra>=0.19.1->qiskit-aer) (6.0.0)\n",
            "Requirement already satisfied: mpmath>=0.19 in /usr/local/lib/python3.10/dist-packages (from sympy>=1.3->qiskit-terra>=0.19.1->qiskit-aer) (1.3.0)\n"
          ]
        }
      ]
    },
    {
      "cell_type": "code",
      "execution_count": null,
      "id": "9b156fc8-20b5-4616-95a3-1cb2734aba7a",
      "metadata": {
        "tags": [],
        "colab": {
          "base_uri": "https://localhost:8080/"
        },
        "id": "9b156fc8-20b5-4616-95a3-1cb2734aba7a",
        "outputId": "b3a931b1-3b50-4d1b-eab6-580198491018"
      },
      "outputs": [
        {
          "output_type": "stream",
          "name": "stdout",
          "text": [
            "{'1111': 1, '1100': 1, '1000': 1, '0000': 1021}\n"
          ]
        }
      ],
      "source": [
        "from qiskit import Aer, transpile, assemble, QuantumCircuit\n",
        "from qiskit.quantum_info import Statevector\n",
        "import numpy as np\n",
        "\n",
        "shot = 1024\n",
        "backend = Aer.get_backend('qasm_simulator')\n",
        "transpiled_circuit = transpile(bound_circuit.decompose(), backend)\n",
        "qobj = assemble(transpiled_circuit, shots=shot)\n",
        "\n",
        "job = backend.run(qobj)\n",
        "result = job.result()\n",
        "\n",
        "counts = result.get_counts()\n",
        "print(counts)"
      ]
    },
    {
      "cell_type": "code",
      "execution_count": null,
      "id": "ca95ecbe-ef8d-4fab-ac43-f15273cc3603",
      "metadata": {
        "tags": [],
        "colab": {
          "base_uri": "https://localhost:8080/",
          "height": 484
        },
        "id": "ca95ecbe-ef8d-4fab-ac43-f15273cc3603",
        "outputId": "2ac44e8d-0bd5-4b3e-9ad2-469db81a9e3e"
      },
      "outputs": [
        {
          "output_type": "execute_result",
          "data": {
            "text/plain": [
              "<Figure size 700x500 with 1 Axes>"
            ],
            "image/png": "[encoded data removed]"
          },
          "metadata": {},
          "execution_count": 85
        }
      ],
      "source": [
        "from qiskit import *\n",
        "from qiskit.visualization import plot_histogram\n",
        "from qiskit.algorithms.optimizers import COBYLA\n",
        "\n",
        "qobj2 = assemble(transpiled_circuit, shots=500)\n",
        "\n",
        "job = backend.run(qobj2)\n",
        "result_2 = job.result()\n",
        "\n",
        "qobj3 = assemble(transpiled_circuit, shots=100)\n",
        "\n",
        "job = backend.run(qobj3)\n",
        "result_3 = job.result()\n",
        "\n",
        "second_counts = result_2.get_counts()\n",
        "third_counts = result_3.get_counts()\n",
        "legend = ['First execution', 'Second execution', 'Third execution']\n",
        "plot_histogram([counts, second_counts,third_counts ], legend=legend)"
      ]
    },
    {
      "cell_type": "code",
      "execution_count": null,
      "id": "1b88815b-2b25-4236-89bf-8961abcbf024",
      "metadata": {
        "tags": [],
        "colab": {
          "base_uri": "https://localhost:8080/"
        },
        "id": "1b88815b-2b25-4236-89bf-8961abcbf024",
        "outputId": "ff8fa8fd-a5d3-41e3-b212-5707b4776a7f"
      },
      "outputs": [
        {
          "output_type": "stream",
          "name": "stdout",
          "text": [
            "[0.9990234375, 0.0009765625]\n"
          ]
        }
      ],
      "source": [
        "zero = 0\n",
        "one = 0\n",
        "for measure, count in counts.items():\n",
        "    if measure.count('1') % 2 == 0:\n",
        "        zero += count\n",
        "    else:\n",
        "        one += count\n",
        "\n",
        "prob = [zero / shot, one / shot]\n",
        "print(prob)"
      ]
    },
    {
      "cell_type": "code",
      "execution_count": null,
      "id": "12ce5455-06dc-447e-92e8-aad00f5d0600",
      "metadata": {
        "tags": [],
        "colab": {
          "base_uri": "https://localhost:8080/"
        },
        "id": "12ce5455-06dc-447e-92e8-aad00f5d0600",
        "outputId": "4d16c16c-d9fc-47c2-e2dd-9d3b21df38a3"
      },
      "outputs": [
        {
          "output_type": "execute_result",
          "data": {
            "text/plain": [
              "(275, 147)"
            ]
          },
          "metadata": {},
          "execution_count": 87
        }
      ],
      "source": [
        "y.shape"
      ]
    },
    {
      "cell_type": "code",
      "execution_count": null,
      "id": "d91dcfde-e7cb-495c-ba1a-ada92f2dc974",
      "metadata": {
        "tags": [],
        "colab": {
          "base_uri": "https://localhost:8080/"
        },
        "id": "d91dcfde-e7cb-495c-ba1a-ada92f2dc974",
        "outputId": "61a73140-ed3a-4498-91d9-7b25e0ee0e7b"
      },
      "outputs": [
        {
          "output_type": "stream",
          "name": "stdout",
          "text": [
            "Statevector([ 1.+0.j,  0.+0.j, -0.+0.j, -0.+0.j,  0.+0.j,  0.+0.j, -0.+0.j,\n",
            "             -0.+0.j,  0.+0.j,  0.+0.j, -0.+0.j, -0.+0.j,  0.+0.j,  0.+0.j,\n",
            "             -0.+0.j, -0.+0.j],\n",
            "            dims=(2, 2, 2, 2))\n"
          ]
        }
      ],
      "source": [
        "optimizer = COBYLA(maxiter=500)\n",
        "\n",
        "backend = Aer.get_backend('statevector_simulator')\n",
        "result = execute(bound_circuit, backend = backend, shots = 1024).result()\n",
        "statevector_complex = result.get_statevector()\n",
        "print(statevector_complex)\n",
        "\n",
        "def custom_loss(params, target_probs):\n",
        "    probs = Statevector(statevector_complex).probabilities()\n",
        "    target_probs = target_probs.reshape(-1, 1)\n",
        "\n",
        "    return np.mean(np.abs(probs - target_probs)**2)\n",
        "\n",
        "initial_params = np.random.rand(len(y))\n",
        "\n",
        "optimized_params = optimizer.minimize(\n",
        "    fun=lambda params: custom_loss(params, y),\n",
        "    x0=initial_params,\n",
        ")"
      ]
    },
    {
      "cell_type": "code",
      "source": [
        "\n",
        "\n",
        "# Assuming 'y' is a 2D array where each row is a target probability distribution\n",
        "# You might want to replace it with your actual data structure\n",
        "\n",
        "def custom_loss(params, target_probs):\n",
        "    num_data_points = len(target_probs)\n",
        "    total_loss = 0\n",
        "\n",
        "    for i in range(num_data_points):\n",
        "        statevector_complex_i = execute(bound_circuit, backend=backend, shots=1024).result().get_statevector()\n",
        "        probs_i = Statevector(statevector_complex_i).probabilities()\n",
        "        target_probs_i = target_probs[i].reshape(-1, 1)\n",
        "\n",
        "        loss_i = np.mean(np.abs(probs_i - target_probs_i)**2)\n",
        "        total_loss += loss_i\n",
        "\n",
        "    return total_loss / num_data_points\n",
        "\n",
        "# Assuming 'y' is a 2D array with each row representing a target probability distribution\n",
        "initial_params = np.random.rand(len(y[0]))\n",
        "\n",
        "optimized_params = optimizer.minimize(\n",
        "    fun=lambda params: custom_loss(params, y),\n",
        "    x0=initial_params,\n",
        ")\n"
      ],
      "metadata": {
        "colab": {
          "base_uri": "https://localhost:8080/",
          "height": 356
        },
        "id": "abTauJJYsHht",
        "outputId": "9edda459-1ecb-4ac7-9e16-f22e3f52d627"
      },
      "id": "abTauJJYsHht",
      "execution_count": null,
      "outputs": [
        {
          "output_type": "error",
          "ename": "KeyboardInterrupt",
          "evalue": "",
          "traceback": [
            "\u001b[0;31m---------------------------------------------------------------------------\u001b[0m",
            "\u001b[0;31mKeyboardInterrupt\u001b[0m                         Traceback (most recent call last)",
            "\u001b[0;32m<ipython-input-98-4c6f489bf3a7>\u001b[0m in \u001b[0;36m<cell line: 21>\u001b[0;34m()\u001b[0m\n\u001b[1;32m     19\u001b[0m \u001b[0minitial_params\u001b[0m \u001b[0;34m=\u001b[0m \u001b[0mnp\u001b[0m\u001b[0;34m.\u001b[0m\u001b[0mrandom\u001b[0m\u001b[0;34m.\u001b[0m\u001b[0mrand\u001b[0m\u001b[0;34m(\u001b[0m\u001b[0mlen\u001b[0m\u001b[0;34m(\u001b[0m\u001b[0my\u001b[0m\u001b[0;34m[\u001b[0m\u001b[0;36m0\u001b[0m\u001b[0;34m]\u001b[0m\u001b[0;34m)\u001b[0m\u001b[0;34m)\u001b[0m\u001b[0;34m\u001b[0m\u001b[0;34m\u001b[0m\u001b[0m\n\u001b[1;32m     20\u001b[0m \u001b[0;34m\u001b[0m\u001b[0m\n\u001b[0;32m---> 21\u001b[0;31m optimized_params = optimizer.minimize(\n\u001b[0m\u001b[1;32m     22\u001b[0m     \u001b[0mfun\u001b[0m\u001b[0;34m=\u001b[0m\u001b[0;32mlambda\u001b[0m \u001b[0mparams\u001b[0m\u001b[0;34m:\u001b[0m \u001b[0mcustom_loss\u001b[0m\u001b[0;34m(\u001b[0m\u001b[0mparams\u001b[0m\u001b[0;34m,\u001b[0m \u001b[0my\u001b[0m\u001b[0;34m)\u001b[0m\u001b[0;34m,\u001b[0m\u001b[0;34m\u001b[0m\u001b[0;34m\u001b[0m\u001b[0m\n\u001b[1;32m     23\u001b[0m     \u001b[0mx0\u001b[0m\u001b[0;34m=\u001b[0m\u001b[0minitial_params\u001b[0m\u001b[0;34m,\u001b[0m\u001b[0;34m\u001b[0m\u001b[0;34m\u001b[0m\u001b[0m\n",
            "\u001b[0;32m/usr/local/lib/python3.10/dist-packages/qiskit/algorithms/optimizers/scipy_optimizer.py\u001b[0m in \u001b[0;36mminimize\u001b[0;34m(self, fun, x0, jac, bounds)\u001b[0m\n\u001b[1;32m    127\u001b[0m             \u001b[0mjac\u001b[0m \u001b[0;34m=\u001b[0m \u001b[0mself\u001b[0m\u001b[0;34m.\u001b[0m\u001b[0m_wrap_gradient\u001b[0m\u001b[0;34m(\u001b[0m\u001b[0mjac\u001b[0m\u001b[0;34m)\u001b[0m\u001b[0;34m\u001b[0m\u001b[0;34m\u001b[0m\u001b[0m\n\u001b[1;32m    128\u001b[0m \u001b[0;34m\u001b[0m\u001b[0m\n\u001b[0;32m--> 129\u001b[0;31m         raw_result = minimize(\n\u001b[0m\u001b[1;32m    130\u001b[0m             \u001b[0mfun\u001b[0m\u001b[0;34m=\u001b[0m\u001b[0mfun\u001b[0m\u001b[0;34m,\u001b[0m\u001b[0;34m\u001b[0m\u001b[0;34m\u001b[0m\u001b[0m\n\u001b[1;32m    131\u001b[0m             \u001b[0mx0\u001b[0m\u001b[0;34m=\u001b[0m\u001b[0mx0\u001b[0m\u001b[0;34m,\u001b[0m\u001b[0;34m\u001b[0m\u001b[0;34m\u001b[0m\u001b[0m\n",
            "\u001b[0;32m/usr/local/lib/python3.10/dist-packages/scipy/optimize/_minimize.py\u001b[0m in \u001b[0;36mminimize\u001b[0;34m(fun, x0, args, method, jac, hess, hessp, bounds, constraints, tol, callback, options)\u001b[0m\n\u001b[1;32m    714\u001b[0m                             **options)\n\u001b[1;32m    715\u001b[0m     \u001b[0;32melif\u001b[0m \u001b[0mmeth\u001b[0m \u001b[0;34m==\u001b[0m \u001b[0;34m'cobyla'\u001b[0m\u001b[0;34m:\u001b[0m\u001b[0;34m\u001b[0m\u001b[0;34m\u001b[0m\u001b[0m\n\u001b[0;32m--> 716\u001b[0;31m         res = _minimize_cobyla(fun, x0, args, constraints, callback=callback,\n\u001b[0m\u001b[1;32m    717\u001b[0m                                bounds=bounds, **options)\n\u001b[1;32m    718\u001b[0m     \u001b[0;32melif\u001b[0m \u001b[0mmeth\u001b[0m \u001b[0;34m==\u001b[0m \u001b[0;34m'slsqp'\u001b[0m\u001b[0;34m:\u001b[0m\u001b[0;34m\u001b[0m\u001b[0;34m\u001b[0m\u001b[0m\n",
            "\u001b[0;32m/usr/local/lib/python3.10/dist-packages/scipy/optimize/_cobyla_py.py\u001b[0m in \u001b[0;36mwrapper\u001b[0;34m(*args, **kwargs)\u001b[0m\n\u001b[1;32m     33\u001b[0m     \u001b[0;32mdef\u001b[0m \u001b[0mwrapper\u001b[0m\u001b[0;34m(\u001b[0m\u001b[0;34m*\u001b[0m\u001b[0margs\u001b[0m\u001b[0;34m,\u001b[0m \u001b[0;34m**\u001b[0m\u001b[0mkwargs\u001b[0m\u001b[0;34m)\u001b[0m\u001b[0;34m:\u001b[0m\u001b[0;34m\u001b[0m\u001b[0;34m\u001b[0m\u001b[0m\n\u001b[1;32m     34\u001b[0m         \u001b[0;32mwith\u001b[0m \u001b[0m_module_lock\u001b[0m\u001b[0;34m:\u001b[0m\u001b[0;34m\u001b[0m\u001b[0;34m\u001b[0m\u001b[0m\n\u001b[0;32m---> 35\u001b[0;31m             \u001b[0;32mreturn\u001b[0m \u001b[0mfunc\u001b[0m\u001b[0;34m(\u001b[0m\u001b[0;34m*\u001b[0m\u001b[0margs\u001b[0m\u001b[0;34m,\u001b[0m \u001b[0;34m**\u001b[0m\u001b[0mkwargs\u001b[0m\u001b[0;34m)\u001b[0m\u001b[0;34m\u001b[0m\u001b[0;34m\u001b[0m\u001b[0m\n\u001b[0m\u001b[1;32m     36\u001b[0m     \u001b[0;32mreturn\u001b[0m \u001b[0mwrapper\u001b[0m\u001b[0;34m\u001b[0m\u001b[0;34m\u001b[0m\u001b[0m\n\u001b[1;32m     37\u001b[0m \u001b[0;34m\u001b[0m\u001b[0m\n",
            "\u001b[0;32m/usr/local/lib/python3.10/dist-packages/scipy/optimize/_cobyla_py.py\u001b[0m in \u001b[0;36m_minimize_cobyla\u001b[0;34m(fun, x0, args, constraints, rhobeg, tol, maxiter, disp, catol, callback, bounds, **unknown_options)\u001b[0m\n\u001b[1;32m    291\u001b[0m \u001b[0;34m\u001b[0m\u001b[0m\n\u001b[1;32m    292\u001b[0m     \u001b[0minfo\u001b[0m \u001b[0;34m=\u001b[0m \u001b[0mnp\u001b[0m\u001b[0;34m.\u001b[0m\u001b[0mzeros\u001b[0m\u001b[0;34m(\u001b[0m\u001b[0;36m4\u001b[0m\u001b[0;34m,\u001b[0m \u001b[0mnp\u001b[0m\u001b[0;34m.\u001b[0m\u001b[0mfloat64\u001b[0m\u001b[0;34m)\u001b[0m\u001b[0;34m\u001b[0m\u001b[0;34m\u001b[0m\u001b[0m\n\u001b[0;32m--> 293\u001b[0;31m     xopt, info = cobyla.minimize(calcfc, m=m, x=np.copy(x0), rhobeg=rhobeg,\n\u001b[0m\u001b[1;32m    294\u001b[0m                                   \u001b[0mrhoend\u001b[0m\u001b[0;34m=\u001b[0m\u001b[0mrhoend\u001b[0m\u001b[0;34m,\u001b[0m \u001b[0miprint\u001b[0m\u001b[0;34m=\u001b[0m\u001b[0miprint\u001b[0m\u001b[0;34m,\u001b[0m \u001b[0mmaxfun\u001b[0m\u001b[0;34m=\u001b[0m\u001b[0mmaxfun\u001b[0m\u001b[0;34m,\u001b[0m\u001b[0;34m\u001b[0m\u001b[0;34m\u001b[0m\u001b[0m\n\u001b[1;32m    295\u001b[0m                                   dinfo=info, callback=wrapped_callback)\n",
            "\u001b[0;32m/usr/local/lib/python3.10/dist-packages/scipy/optimize/_cobyla_py.py\u001b[0m in \u001b[0;36mcalcfc\u001b[0;34m(x, con)\u001b[0m\n\u001b[1;32m    279\u001b[0m \u001b[0;34m\u001b[0m\u001b[0m\n\u001b[1;32m    280\u001b[0m     \u001b[0;32mdef\u001b[0m \u001b[0mcalcfc\u001b[0m\u001b[0;34m(\u001b[0m\u001b[0mx\u001b[0m\u001b[0;34m,\u001b[0m \u001b[0mcon\u001b[0m\u001b[0;34m)\u001b[0m\u001b[0;34m:\u001b[0m\u001b[0;34m\u001b[0m\u001b[0;34m\u001b[0m\u001b[0m\n\u001b[0;32m--> 281\u001b[0;31m         \u001b[0mf\u001b[0m \u001b[0;34m=\u001b[0m \u001b[0msf\u001b[0m\u001b[0;34m.\u001b[0m\u001b[0mfun\u001b[0m\u001b[0;34m(\u001b[0m\u001b[0mx\u001b[0m\u001b[0;34m)\u001b[0m\u001b[0;34m\u001b[0m\u001b[0;34m\u001b[0m\u001b[0m\n\u001b[0m\u001b[1;32m    282\u001b[0m         \u001b[0mi\u001b[0m \u001b[0;34m=\u001b[0m \u001b[0;36m0\u001b[0m\u001b[0;34m\u001b[0m\u001b[0;34m\u001b[0m\u001b[0m\n\u001b[1;32m    283\u001b[0m         \u001b[0;32mfor\u001b[0m \u001b[0msize\u001b[0m\u001b[0;34m,\u001b[0m \u001b[0mc\u001b[0m \u001b[0;32min\u001b[0m \u001b[0mizip\u001b[0m\u001b[0;34m(\u001b[0m\u001b[0mcons_lengths\u001b[0m\u001b[0;34m,\u001b[0m \u001b[0mconstraints\u001b[0m\u001b[0;34m)\u001b[0m\u001b[0;34m:\u001b[0m\u001b[0;34m\u001b[0m\u001b[0;34m\u001b[0m\u001b[0m\n",
            "\u001b[0;32m/usr/local/lib/python3.10/dist-packages/scipy/optimize/_differentiable_functions.py\u001b[0m in \u001b[0;36mfun\u001b[0;34m(self, x)\u001b[0m\n\u001b[1;32m    265\u001b[0m         \u001b[0;32mif\u001b[0m \u001b[0;32mnot\u001b[0m \u001b[0mnp\u001b[0m\u001b[0;34m.\u001b[0m\u001b[0marray_equal\u001b[0m\u001b[0;34m(\u001b[0m\u001b[0mx\u001b[0m\u001b[0;34m,\u001b[0m \u001b[0mself\u001b[0m\u001b[0;34m.\u001b[0m\u001b[0mx\u001b[0m\u001b[0;34m)\u001b[0m\u001b[0;34m:\u001b[0m\u001b[0;34m\u001b[0m\u001b[0;34m\u001b[0m\u001b[0m\n\u001b[1;32m    266\u001b[0m             \u001b[0mself\u001b[0m\u001b[0;34m.\u001b[0m\u001b[0m_update_x_impl\u001b[0m\u001b[0;34m(\u001b[0m\u001b[0mx\u001b[0m\u001b[0;34m)\u001b[0m\u001b[0;34m\u001b[0m\u001b[0;34m\u001b[0m\u001b[0m\n\u001b[0;32m--> 267\u001b[0;31m         \u001b[0mself\u001b[0m\u001b[0;34m.\u001b[0m\u001b[0m_update_fun\u001b[0m\u001b[0;34m(\u001b[0m\u001b[0;34m)\u001b[0m\u001b[0;34m\u001b[0m\u001b[0;34m\u001b[0m\u001b[0m\n\u001b[0m\u001b[1;32m    268\u001b[0m         \u001b[0;32mreturn\u001b[0m \u001b[0mself\u001b[0m\u001b[0;34m.\u001b[0m\u001b[0mf\u001b[0m\u001b[0;34m\u001b[0m\u001b[0;34m\u001b[0m\u001b[0m\n\u001b[1;32m    269\u001b[0m \u001b[0;34m\u001b[0m\u001b[0m\n",
            "\u001b[0;32m/usr/local/lib/python3.10/dist-packages/scipy/optimize/_differentiable_functions.py\u001b[0m in \u001b[0;36m_update_fun\u001b[0;34m(self)\u001b[0m\n\u001b[1;32m    249\u001b[0m     \u001b[0;32mdef\u001b[0m \u001b[0m_update_fun\u001b[0m\u001b[0;34m(\u001b[0m\u001b[0mself\u001b[0m\u001b[0;34m)\u001b[0m\u001b[0;34m:\u001b[0m\u001b[0;34m\u001b[0m\u001b[0;34m\u001b[0m\u001b[0m\n\u001b[1;32m    250\u001b[0m         \u001b[0;32mif\u001b[0m \u001b[0;32mnot\u001b[0m \u001b[0mself\u001b[0m\u001b[0;34m.\u001b[0m\u001b[0mf_updated\u001b[0m\u001b[0;34m:\u001b[0m\u001b[0;34m\u001b[0m\u001b[0;34m\u001b[0m\u001b[0m\n\u001b[0;32m--> 251\u001b[0;31m             \u001b[0mself\u001b[0m\u001b[0;34m.\u001b[0m\u001b[0m_update_fun_impl\u001b[0m\u001b[0;34m(\u001b[0m\u001b[0;34m)\u001b[0m\u001b[0;34m\u001b[0m\u001b[0;34m\u001b[0m\u001b[0m\n\u001b[0m\u001b[1;32m    252\u001b[0m             \u001b[0mself\u001b[0m\u001b[0;34m.\u001b[0m\u001b[0mf_updated\u001b[0m \u001b[0;34m=\u001b[0m \u001b[0;32mTrue\u001b[0m\u001b[0;34m\u001b[0m\u001b[0;34m\u001b[0m\u001b[0m\n\u001b[1;32m    253\u001b[0m \u001b[0;34m\u001b[0m\u001b[0m\n",
            "\u001b[0;32m/usr/local/lib/python3.10/dist-packages/scipy/optimize/_differentiable_functions.py\u001b[0m in \u001b[0;36mupdate_fun\u001b[0;34m()\u001b[0m\n\u001b[1;32m    153\u001b[0m \u001b[0;34m\u001b[0m\u001b[0m\n\u001b[1;32m    154\u001b[0m         \u001b[0;32mdef\u001b[0m \u001b[0mupdate_fun\u001b[0m\u001b[0;34m(\u001b[0m\u001b[0;34m)\u001b[0m\u001b[0;34m:\u001b[0m\u001b[0;34m\u001b[0m\u001b[0;34m\u001b[0m\u001b[0m\n\u001b[0;32m--> 155\u001b[0;31m             \u001b[0mself\u001b[0m\u001b[0;34m.\u001b[0m\u001b[0mf\u001b[0m \u001b[0;34m=\u001b[0m \u001b[0mfun_wrapped\u001b[0m\u001b[0;34m(\u001b[0m\u001b[0mself\u001b[0m\u001b[0;34m.\u001b[0m\u001b[0mx\u001b[0m\u001b[0;34m)\u001b[0m\u001b[0;34m\u001b[0m\u001b[0;34m\u001b[0m\u001b[0m\n\u001b[0m\u001b[1;32m    156\u001b[0m \u001b[0;34m\u001b[0m\u001b[0m\n\u001b[1;32m    157\u001b[0m         \u001b[0mself\u001b[0m\u001b[0;34m.\u001b[0m\u001b[0m_update_fun_impl\u001b[0m \u001b[0;34m=\u001b[0m \u001b[0mupdate_fun\u001b[0m\u001b[0;34m\u001b[0m\u001b[0;34m\u001b[0m\u001b[0m\n",
            "\u001b[0;32m/usr/local/lib/python3.10/dist-packages/scipy/optimize/_differentiable_functions.py\u001b[0m in \u001b[0;36mfun_wrapped\u001b[0;34m(x)\u001b[0m\n\u001b[1;32m    135\u001b[0m             \u001b[0;31m# Overwriting results in undefined behaviour because\u001b[0m\u001b[0;34m\u001b[0m\u001b[0;34m\u001b[0m\u001b[0m\n\u001b[1;32m    136\u001b[0m             \u001b[0;31m# fun(self.x) will change self.x, with the two no longer linked.\u001b[0m\u001b[0;34m\u001b[0m\u001b[0;34m\u001b[0m\u001b[0m\n\u001b[0;32m--> 137\u001b[0;31m             \u001b[0mfx\u001b[0m \u001b[0;34m=\u001b[0m \u001b[0mfun\u001b[0m\u001b[0;34m(\u001b[0m\u001b[0mnp\u001b[0m\u001b[0;34m.\u001b[0m\u001b[0mcopy\u001b[0m\u001b[0;34m(\u001b[0m\u001b[0mx\u001b[0m\u001b[0;34m)\u001b[0m\u001b[0;34m,\u001b[0m \u001b[0;34m*\u001b[0m\u001b[0margs\u001b[0m\u001b[0;34m)\u001b[0m\u001b[0;34m\u001b[0m\u001b[0;34m\u001b[0m\u001b[0m\n\u001b[0m\u001b[1;32m    138\u001b[0m             \u001b[0;31m# Make sure the function returns a true scalar\u001b[0m\u001b[0;34m\u001b[0m\u001b[0;34m\u001b[0m\u001b[0m\n\u001b[1;32m    139\u001b[0m             \u001b[0;32mif\u001b[0m \u001b[0;32mnot\u001b[0m \u001b[0mnp\u001b[0m\u001b[0;34m.\u001b[0m\u001b[0misscalar\u001b[0m\u001b[0;34m(\u001b[0m\u001b[0mfx\u001b[0m\u001b[0;34m)\u001b[0m\u001b[0;34m:\u001b[0m\u001b[0;34m\u001b[0m\u001b[0;34m\u001b[0m\u001b[0m\n",
            "\u001b[0;32m<ipython-input-98-4c6f489bf3a7>\u001b[0m in \u001b[0;36m<lambda>\u001b[0;34m(params)\u001b[0m\n\u001b[1;32m     20\u001b[0m \u001b[0;34m\u001b[0m\u001b[0m\n\u001b[1;32m     21\u001b[0m optimized_params = optimizer.minimize(\n\u001b[0;32m---> 22\u001b[0;31m     \u001b[0mfun\u001b[0m\u001b[0;34m=\u001b[0m\u001b[0;32mlambda\u001b[0m \u001b[0mparams\u001b[0m\u001b[0;34m:\u001b[0m \u001b[0mcustom_loss\u001b[0m\u001b[0;34m(\u001b[0m\u001b[0mparams\u001b[0m\u001b[0;34m,\u001b[0m \u001b[0my\u001b[0m\u001b[0;34m)\u001b[0m\u001b[0;34m,\u001b[0m\u001b[0;34m\u001b[0m\u001b[0;34m\u001b[0m\u001b[0m\n\u001b[0m\u001b[1;32m     23\u001b[0m     \u001b[0mx0\u001b[0m\u001b[0;34m=\u001b[0m\u001b[0minitial_params\u001b[0m\u001b[0;34m,\u001b[0m\u001b[0;34m\u001b[0m\u001b[0;34m\u001b[0m\u001b[0m\n\u001b[1;32m     24\u001b[0m )\n",
            "\u001b[0;32m<ipython-input-98-4c6f489bf3a7>\u001b[0m in \u001b[0;36mcustom_loss\u001b[0;34m(params, target_probs)\u001b[0m\n\u001b[1;32m      7\u001b[0m \u001b[0;34m\u001b[0m\u001b[0m\n\u001b[1;32m      8\u001b[0m     \u001b[0;32mfor\u001b[0m \u001b[0mi\u001b[0m \u001b[0;32min\u001b[0m \u001b[0mrange\u001b[0m\u001b[0;34m(\u001b[0m\u001b[0mnum_data_points\u001b[0m\u001b[0;34m)\u001b[0m\u001b[0;34m:\u001b[0m\u001b[0;34m\u001b[0m\u001b[0;34m\u001b[0m\u001b[0m\n\u001b[0;32m----> 9\u001b[0;31m         \u001b[0mstatevector_complex_i\u001b[0m \u001b[0;34m=\u001b[0m \u001b[0mexecute\u001b[0m\u001b[0;34m(\u001b[0m\u001b[0mbound_circuit\u001b[0m\u001b[0;34m,\u001b[0m \u001b[0mbackend\u001b[0m\u001b[0;34m=\u001b[0m\u001b[0mbackend\u001b[0m\u001b[0;34m,\u001b[0m \u001b[0mshots\u001b[0m\u001b[0;34m=\u001b[0m\u001b[0;36m1024\u001b[0m\u001b[0;34m)\u001b[0m\u001b[0;34m.\u001b[0m\u001b[0mresult\u001b[0m\u001b[0;34m(\u001b[0m\u001b[0;34m)\u001b[0m\u001b[0;34m.\u001b[0m\u001b[0mget_statevector\u001b[0m\u001b[0;34m(\u001b[0m\u001b[0;34m)\u001b[0m\u001b[0;34m\u001b[0m\u001b[0;34m\u001b[0m\u001b[0m\n\u001b[0m\u001b[1;32m     10\u001b[0m         \u001b[0mprobs_i\u001b[0m \u001b[0;34m=\u001b[0m \u001b[0mStatevector\u001b[0m\u001b[0;34m(\u001b[0m\u001b[0mstatevector_complex_i\u001b[0m\u001b[0;34m)\u001b[0m\u001b[0;34m.\u001b[0m\u001b[0mprobabilities\u001b[0m\u001b[0;34m(\u001b[0m\u001b[0;34m)\u001b[0m\u001b[0;34m\u001b[0m\u001b[0;34m\u001b[0m\u001b[0m\n\u001b[1;32m     11\u001b[0m         \u001b[0mtarget_probs_i\u001b[0m \u001b[0;34m=\u001b[0m \u001b[0mtarget_probs\u001b[0m\u001b[0;34m[\u001b[0m\u001b[0mi\u001b[0m\u001b[0;34m]\u001b[0m\u001b[0;34m.\u001b[0m\u001b[0mreshape\u001b[0m\u001b[0;34m(\u001b[0m\u001b[0;34m-\u001b[0m\u001b[0;36m1\u001b[0m\u001b[0;34m,\u001b[0m \u001b[0;36m1\u001b[0m\u001b[0;34m)\u001b[0m\u001b[0;34m\u001b[0m\u001b[0;34m\u001b[0m\u001b[0m\n",
            "\u001b[0;32m/usr/local/lib/python3.10/dist-packages/qiskit/providers/aer/jobs/utils.py\u001b[0m in \u001b[0;36m_wrapper\u001b[0;34m(self, *args, **kwargs)\u001b[0m\n\u001b[1;32m     39\u001b[0m         \u001b[0;32mif\u001b[0m \u001b[0mself\u001b[0m\u001b[0;34m.\u001b[0m\u001b[0m_future\u001b[0m \u001b[0;32mis\u001b[0m \u001b[0;32mNone\u001b[0m\u001b[0;34m:\u001b[0m\u001b[0;34m\u001b[0m\u001b[0;34m\u001b[0m\u001b[0m\n\u001b[1;32m     40\u001b[0m             \u001b[0;32mraise\u001b[0m \u001b[0mJobError\u001b[0m\u001b[0;34m(\u001b[0m\u001b[0;34m\"Job not submitted yet!. You have to .submit() first!\"\u001b[0m\u001b[0;34m)\u001b[0m\u001b[0;34m\u001b[0m\u001b[0;34m\u001b[0m\u001b[0m\n\u001b[0;32m---> 41\u001b[0;31m         \u001b[0;32mreturn\u001b[0m \u001b[0mfunc\u001b[0m\u001b[0;34m(\u001b[0m\u001b[0mself\u001b[0m\u001b[0;34m,\u001b[0m \u001b[0;34m*\u001b[0m\u001b[0margs\u001b[0m\u001b[0;34m,\u001b[0m \u001b[0;34m**\u001b[0m\u001b[0mkwargs\u001b[0m\u001b[0;34m)\u001b[0m\u001b[0;34m\u001b[0m\u001b[0;34m\u001b[0m\u001b[0m\n\u001b[0m\u001b[1;32m     42\u001b[0m     \u001b[0;32mreturn\u001b[0m \u001b[0m_wrapper\u001b[0m\u001b[0;34m\u001b[0m\u001b[0;34m\u001b[0m\u001b[0m\n\u001b[1;32m     43\u001b[0m \u001b[0;34m\u001b[0m\u001b[0m\n",
            "\u001b[0;32m/usr/local/lib/python3.10/dist-packages/qiskit/providers/aer/jobs/aerjob.py\u001b[0m in \u001b[0;36mresult\u001b[0;34m(self, timeout)\u001b[0m\n\u001b[1;32m     76\u001b[0m             \u001b[0mconcurrent\u001b[0m\u001b[0;34m.\u001b[0m\u001b[0mfutures\u001b[0m\u001b[0;34m.\u001b[0m\u001b[0mCancelledError\u001b[0m\u001b[0;34m:\u001b[0m \u001b[0;32mif\u001b[0m \u001b[0mjob\u001b[0m \u001b[0mcancelled\u001b[0m \u001b[0mbefore\u001b[0m \u001b[0mcompleted\u001b[0m\u001b[0;34m.\u001b[0m\u001b[0;34m\u001b[0m\u001b[0;34m\u001b[0m\u001b[0m\n\u001b[1;32m     77\u001b[0m         \"\"\"\n\u001b[0;32m---> 78\u001b[0;31m         \u001b[0;32mreturn\u001b[0m \u001b[0mself\u001b[0m\u001b[0;34m.\u001b[0m\u001b[0m_future\u001b[0m\u001b[0;34m.\u001b[0m\u001b[0mresult\u001b[0m\u001b[0;34m(\u001b[0m\u001b[0mtimeout\u001b[0m\u001b[0;34m=\u001b[0m\u001b[0mtimeout\u001b[0m\u001b[0;34m)\u001b[0m\u001b[0;34m\u001b[0m\u001b[0;34m\u001b[0m\u001b[0m\n\u001b[0m\u001b[1;32m     79\u001b[0m \u001b[0;34m\u001b[0m\u001b[0m\n\u001b[1;32m     80\u001b[0m     \u001b[0;34m@\u001b[0m\u001b[0mrequires_submit\u001b[0m\u001b[0;34m\u001b[0m\u001b[0;34m\u001b[0m\u001b[0m\n",
            "\u001b[0;32m/usr/lib/python3.10/concurrent/futures/_base.py\u001b[0m in \u001b[0;36mresult\u001b[0;34m(self, timeout)\u001b[0m\n\u001b[1;32m    451\u001b[0m                     \u001b[0;32mreturn\u001b[0m \u001b[0mself\u001b[0m\u001b[0;34m.\u001b[0m\u001b[0m__get_result\u001b[0m\u001b[0;34m(\u001b[0m\u001b[0;34m)\u001b[0m\u001b[0;34m\u001b[0m\u001b[0;34m\u001b[0m\u001b[0m\n\u001b[1;32m    452\u001b[0m \u001b[0;34m\u001b[0m\u001b[0m\n\u001b[0;32m--> 453\u001b[0;31m                 \u001b[0mself\u001b[0m\u001b[0;34m.\u001b[0m\u001b[0m_condition\u001b[0m\u001b[0;34m.\u001b[0m\u001b[0mwait\u001b[0m\u001b[0;34m(\u001b[0m\u001b[0mtimeout\u001b[0m\u001b[0;34m)\u001b[0m\u001b[0;34m\u001b[0m\u001b[0;34m\u001b[0m\u001b[0m\n\u001b[0m\u001b[1;32m    454\u001b[0m \u001b[0;34m\u001b[0m\u001b[0m\n\u001b[1;32m    455\u001b[0m                 \u001b[0;32mif\u001b[0m \u001b[0mself\u001b[0m\u001b[0;34m.\u001b[0m\u001b[0m_state\u001b[0m \u001b[0;32min\u001b[0m \u001b[0;34m[\u001b[0m\u001b[0mCANCELLED\u001b[0m\u001b[0;34m,\u001b[0m \u001b[0mCANCELLED_AND_NOTIFIED\u001b[0m\u001b[0;34m]\u001b[0m\u001b[0;34m:\u001b[0m\u001b[0;34m\u001b[0m\u001b[0;34m\u001b[0m\u001b[0m\n",
            "\u001b[0;32m/usr/lib/python3.10/threading.py\u001b[0m in \u001b[0;36mwait\u001b[0;34m(self, timeout)\u001b[0m\n\u001b[1;32m    318\u001b[0m         \u001b[0;32mtry\u001b[0m\u001b[0;34m:\u001b[0m    \u001b[0;31m# restore state no matter what (e.g., KeyboardInterrupt)\u001b[0m\u001b[0;34m\u001b[0m\u001b[0;34m\u001b[0m\u001b[0m\n\u001b[1;32m    319\u001b[0m             \u001b[0;32mif\u001b[0m \u001b[0mtimeout\u001b[0m \u001b[0;32mis\u001b[0m \u001b[0;32mNone\u001b[0m\u001b[0;34m:\u001b[0m\u001b[0;34m\u001b[0m\u001b[0;34m\u001b[0m\u001b[0m\n\u001b[0;32m--> 320\u001b[0;31m                 \u001b[0mwaiter\u001b[0m\u001b[0;34m.\u001b[0m\u001b[0macquire\u001b[0m\u001b[0;34m(\u001b[0m\u001b[0;34m)\u001b[0m\u001b[0;34m\u001b[0m\u001b[0;34m\u001b[0m\u001b[0m\n\u001b[0m\u001b[1;32m    321\u001b[0m                 \u001b[0mgotit\u001b[0m \u001b[0;34m=\u001b[0m \u001b[0;32mTrue\u001b[0m\u001b[0;34m\u001b[0m\u001b[0;34m\u001b[0m\u001b[0m\n\u001b[1;32m    322\u001b[0m             \u001b[0;32melse\u001b[0m\u001b[0;34m:\u001b[0m\u001b[0;34m\u001b[0m\u001b[0;34m\u001b[0m\u001b[0m\n",
            "\u001b[0;31mKeyboardInterrupt\u001b[0m: "
          ]
        }
      ]
    },
    {
      "cell_type": "code",
      "execution_count": null,
      "id": "0d3dd328-833b-4a1b-ac7a-3998ea120ae7",
      "metadata": {
        "tags": [],
        "id": "0d3dd328-833b-4a1b-ac7a-3998ea120ae7",
        "colab": {
          "base_uri": "https://localhost:8080/"
        },
        "outputId": "8ebdb3f5-486c-4443-aa32-3de9b9f2efd9"
      },
      "outputs": [
        {
          "output_type": "execute_result",
          "data": {
            "text/plain": [
              "array(0.06845238)"
            ]
          },
          "metadata": {},
          "execution_count": 94
        }
      ],
      "source": [
        "final = custom_loss(optimized_params, y)\n",
        "final = np.array(final)\n",
        "final"
      ]
    },
    {
      "cell_type": "code",
      "execution_count": null,
      "id": "2ed15e3c-91ab-43f7-ac58-f78f02f74709",
      "metadata": {
        "tags": [],
        "id": "2ed15e3c-91ab-43f7-ac58-f78f02f74709"
      },
      "outputs": [],
      "source": [
        "final.shape"
      ]
    },
    {
      "cell_type": "code",
      "execution_count": null,
      "id": "e18c7982-39c3-4cb1-8115-09da1c12623b",
      "metadata": {
        "tags": [],
        "id": "e18c7982-39c3-4cb1-8115-09da1c12623b"
      },
      "outputs": [],
      "source": [
        "orgi = final.reshape(y.shape)\n",
        "orgi"
      ]
    },
    {
      "cell_type": "code",
      "execution_count": null,
      "id": "6a7c64ca-ba93-4f59-bf4d-af4b5e561d4f",
      "metadata": {
        "tags": [],
        "id": "6a7c64ca-ba93-4f59-bf4d-af4b5e561d4f"
      },
      "outputs": [],
      "source": [
        "final = np.array(np.round(final))\n",
        "result_matrix = final.reshape(y.shape)\n",
        "print(result_matrix)"
      ]
    },
    {
      "cell_type": "code",
      "execution_count": null,
      "id": "b30b1499-452e-4361-99af-e0f1e6b9048a",
      "metadata": {
        "tags": [],
        "id": "b30b1499-452e-4361-99af-e0f1e6b9048a"
      },
      "outputs": [],
      "source": [
        "similarity = np.sum(result_matrix == y, axis=1) / result_matrix.shape[1]\n",
        "\n",
        "for row, acc in enumerate(similarity):\n",
        "    print(f\"Row {row + 1} - Similarity Score: {acc * 100}%\")"
      ]
    },
    {
      "cell_type": "code",
      "execution_count": null,
      "id": "6ed1e860-cb99-4781-a33b-3e14082b35d8",
      "metadata": {
        "tags": [],
        "id": "6ed1e860-cb99-4781-a33b-3e14082b35d8"
      },
      "outputs": [],
      "source": [
        "import numpy as np\n",
        "from sklearn.metrics import accuracy_score, precision_score, recall_score, f1_score\n",
        "\n",
        "y_true_flat = y.flatten()\n",
        "result_matrix_flat = np.round(result_matrix).flatten()\n",
        "\n",
        "accuracy = accuracy_score(y_true_flat, result_matrix_flat)\n",
        "print(f'Accuracy: {accuracy:.4f}')\n",
        "\n",
        "precision = precision_score(y_true_flat, result_matrix_flat, average='weighted')\n",
        "print(f'Precision: {precision:.4f}')\n",
        "\n",
        "recall = recall_score(y_true_flat, result_matrix_flat, average='weighted')\n",
        "print(f'Recall: {recall:.4f}')\n",
        "\n",
        "\n",
        "f1 = f1_score(y_true_flat, result_matrix_flat, average='weighted')\n",
        "print(f'F1 Score: {f1:.4f}')"
      ]
    },
    {
      "cell_type": "code",
      "execution_count": null,
      "id": "87b2a43d-fb22-44f5-9e06-fd9f34b85007",
      "metadata": {
        "tags": [],
        "id": "87b2a43d-fb22-44f5-9e06-fd9f34b85007"
      },
      "outputs": [],
      "source": [
        "from sklearn.metrics import jaccard_score\n",
        "from sklearn.metrics.pairwise import cosine_similarity\n",
        "from sklearn.metrics import hamming_loss\n",
        "from scipy.stats import pearsonr\n",
        "\n",
        "jaccard_similarity = jaccard_score(y_true_flat, result_matrix_flat, average='weighted')\n",
        "print(f'Jaccard Similarity: {jaccard_similarity:.4f}')\n",
        "\n",
        "\n",
        "y_true_reshaped = y.reshape((y.shape[0], -1))\n",
        "result_matrix_reshaped = result_matrix.reshape((result_matrix.shape[0], -1))\n",
        "\n",
        "cosine_similarity_score = np.mean(cosine_similarity(y_true_reshaped, result_matrix_reshaped))\n",
        "print(f'Cosine Similarity: {cosine_similarity_score:.4f}')\n",
        "\n",
        "hamming_loss_value = hamming_loss(y, np.round(result_matrix))\n",
        "print(f'Hamming Loss: {hamming_loss_value:.4f}')\n",
        "\n",
        "y_true_flat = y.flatten()\n",
        "result_matrix_flat = result_matrix.flatten()\n",
        "pearson_corr, _ = pearsonr(y_true_flat, result_matrix_flat)\n",
        "\n",
        "print(f'Pearson Correlation Coefficient: {pearson_corr:.4f}')"
      ]
    },
    {
      "cell_type": "code",
      "execution_count": null,
      "id": "cf61a655-44c5-4b31-becd-d4223e1b661c",
      "metadata": {
        "tags": [],
        "id": "cf61a655-44c5-4b31-becd-d4223e1b661c"
      },
      "outputs": [],
      "source": [
        "from qiskit.visualization import plot_bloch_multivector,plot_state_city, plot_state_hinton\n",
        "plot_bloch_multivector(statevector_complex)"
      ]
    },
    {
      "cell_type": "code",
      "execution_count": null,
      "id": "cff2ddf4-059e-4d42-8d77-91ae0bf75217",
      "metadata": {
        "tags": [],
        "id": "cff2ddf4-059e-4d42-8d77-91ae0bf75217"
      },
      "outputs": [],
      "source": [
        "new_word_to_id = {}\n",
        "\n",
        "for row_index, row in enumerate(result_matrix):\n",
        "    word_index = np.argmax(row)\n",
        "    word = [key for key, value in word_to_id.items() if value == word_index][0]\n",
        "    new_word_to_id[word] = row_index\n",
        "\n",
        "with open(\"Qvect.txt\", \"w\") as file:\n",
        "    dict_str = \"{\\n\" + \"\\n\".join([f\" '{word}': {id_},\" for word, id_ in new_word_to_id.items()]) + \"\\n}\"\n",
        "    file.write(dict_str)  # Write the string to the file\n",
        "\n",
        "print(\"New word to ID mapping saved to NewWordIDs.txt.\")\n"
      ]
    },
    {
      "cell_type": "code",
      "execution_count": null,
      "id": "3ca19b90-6c04-46e5-a9af-6fffb1a767de",
      "metadata": {
        "id": "3ca19b90-6c04-46e5-a9af-6fffb1a767de"
      },
      "outputs": [],
      "source": [
        "import numpy as np\n",
        "\n",
        "sentences = [\"The quick brown fox jumps over the lazy dog.\",\n",
        "             \"The sun sets behind the mountains.\",\n",
        "             \"Sparkling stars fill the night sky.\",\n",
        "             \"A solitary lighthouse stands against the storm.\",\n",
        "             \"Silent he played\"]\n",
        "\n",
        "unique_words = set(word.strip('.').lower() for sentence in sentences for word in sentence.split())\n",
        "word_to_id = {word: i for i, word in enumerate(unique_words)}\n",
        "\n",
        "\n",
        "with open(\"Qvect.txt\", \"w\") as file:\n",
        "    for sentence in sentences:\n",
        "        words = sentence.split()\n",
        "        word_similarities = []\n",
        "\n",
        "        for word in words:\n",
        "            # Normalize word to match 'word_to_id' keys\n",
        "            normalized_word = word.strip('.').lower()\n",
        "            if normalized_word in word_to_id:\n",
        "                word_index = word_to_id[normalized_word]\n",
        "                word_similarity = result_matrix[:, word_index]\n",
        "                word_similarities.append(np.max(word_similarity))\n",
        "\n",
        "        if word_similarities:\n",
        "            sentence_similarity = np.mean(word_similarities)\n",
        "        else:\n",
        "            sentence_similarity = 0\n",
        "\n",
        "        output_line = f\"Sentence: {sentence}\\nSimilarity: {sentence_similarity}\\n\\n\"\n",
        "        print(output_line)"
      ]
    },
    {
      "cell_type": "code",
      "execution_count": null,
      "id": "0a459e7b-ae49-47b9-a90a-0b7f1275ef17",
      "metadata": {
        "id": "0a459e7b-ae49-47b9-a90a-0b7f1275ef17"
      },
      "outputs": [],
      "source": []
    },
    {
      "cell_type": "code",
      "execution_count": null,
      "id": "e3f87d67-3291-4b75-818a-2f70988c0f71",
      "metadata": {
        "id": "e3f87d67-3291-4b75-818a-2f70988c0f71"
      },
      "outputs": [],
      "source": []
    }
  ],
  "metadata": {
    "kernelspec": {
      "display_name": "Qiskit v1.0.0 (ipykernel)",
      "language": "python",
      "name": "python3"
    },
    "language_info": {
      "codemirror_mode": {
        "name": "ipython",
        "version": 3
      },
      "file_extension": ".py",
      "mimetype": "text/x-python",
      "name": "python",
      "nbconvert_exporter": "python",
      "pygments_lexer": "ipython3",
      "version": "3.10.8"
    },
    "colab": {
      "provenance": [],
      "include_colab_link": true
    }
  },
  "nbformat": 4,
  "nbformat_minor": 5
}